{
 "cells": [
  {
   "cell_type": "code",
   "execution_count": 1,
   "metadata": {},
   "outputs": [],
   "source": [
    "from pyspark.sql.types import StructType, StructField, StringType, DoubleType\n",
    "from pyspark.sql.functions import col, unix_timestamp, to_date\n",
    "from pyspark.sql import functions as fun\n",
    "from pyspark.sql.window import Window\n",
    "\n",
    "from pyspark.sql import SparkSession\n",
    "from functools import lru_cache\n",
    "\n",
    "#import sys\n",
    "#sys.path.append(\"spark_ts-0.1.0-py2.7.egg\")\n",
    "import spark_ts as spts\n",
    "\n",
    "@lru_cache(maxsize=None)\n",
    "def get_spark():\n",
    "    return (SparkSession.builder\n",
    "                .master(\"local\")\n",
    "                .appName(\"gill\")\n",
    "                .getOrCreate())\n",
    "\n",
    "spark = get_spark()\n",
    "\n",
    "# Dataframe schema of INMET station data\n",
    "schema = StructType([\n",
    "    StructField(\"Estacao\",StringType()),\n",
    "    StructField(\"Data\",StringType()),\n",
    "    StructField(\"Hora\",StringType()),\n",
    "    StructField(\"Precipitacao\",DoubleType()),\n",
    "    StructField(\"TempMaxima\",DoubleType()),\n",
    "    StructField(\"TempMinima\",DoubleType()),\n",
    "    StructField(\"Insolacao\",DoubleType()),\n",
    "    StructField(\"Piche\",DoubleType()),\n",
    "    StructField(\"TempCompMedia\",StringType()),\n",
    "    StructField(\"UmidadeRelativaMedia\",DoubleType()),\n",
    "    StructField(\"VelocidadedoVentoMedia\",DoubleType())])\n",
    "\n",
    "path = \"data_basetxt/total.csv\"\n",
    "df = spark.read.csv(path, header=True, sep=\";\", schema=schema)\n",
    "\n"
   ]
  },
  {
   "cell_type": "markdown",
   "metadata": {},
   "source": [
    "As we can see above, the dataframe have multiple null values, does not have a well formed date fild (with Date separated from Hour date). We will use some regular expressions in Pyspark in a map transformation two join Data and Hour in appropriate format."
   ]
  },
  {
   "cell_type": "code",
   "execution_count": 2,
   "metadata": {},
   "outputs": [],
   "source": [
    "# Function station_adjusting(df) joins info from columns Data and Hora\n",
    "# INPUT: Receive a dataframe object definead as the dataframe schema for INMET station data.\n",
    "# OUTPUT: Returns a dataframe objetc with adjusted \"Data\" column, in the format  YYYY-MM-DD HH:MM:SS\n",
    "def station_adjusting(df):\n",
    "    df = df.withColumn('Data', \n",
    "    fun.concat(\n",
    "            fun.regexp_replace('Data', '/', '-'), \n",
    "            fun.lit(\" \"), \n",
    "            fun.regexp_replace(col(\"Hora\") ,  \"(\\\\d{2})(\\\\d{2})\" , \"$1:$2:00\" )\n",
    "        )\n",
    "    )\n",
    "    \n",
    "    df = (df\n",
    "        .withColumn('Data', \n",
    "            fun.to_timestamp(col('Data'), 'dd-MM-yyyy HH:mm')\n",
    "            .cast(\"timestamp\")\n",
    "            )\n",
    "        )\n",
    "    \n",
    "    df = df.drop('Hora')\n",
    "    \n",
    "    return df\n",
    "    \n",
    "adjusted = station_adjusting(df)"
   ]
  },
  {
   "cell_type": "markdown",
   "metadata": {},
   "source": [
    "For the ETCCDI indices, we just need Preciptation, TempMax and TempMin columns. Lets select them in a new "
   ]
  },
  {
   "cell_type": "code",
   "execution_count": 3,
   "metadata": {},
   "outputs": [],
   "source": [
    "df = adjusted.select([\"Estacao\", \"Data\", \"TempMinima\"]).where(fun.hour(\"Data\") == 12).where(col(\"Estacao\") == 82294)"
   ]
  },
  {
   "cell_type": "code",
   "execution_count": 4,
   "metadata": {},
   "outputs": [
    {
     "name": "stdout",
     "output_type": "stream",
     "text": [
      "TempMinima_miss 0.05\n",
      "Estacao_miss 0.0\n",
      "Data_miss 0.0\n"
     ]
    }
   ],
   "source": [
    "#df.transform(summary)\n",
    "df.transform(spts.summary)"
   ]
  },
  {
   "cell_type": "code",
   "execution_count": 5,
   "metadata": {
    "scrolled": true
   },
   "outputs": [
    {
     "name": "stdout",
     "output_type": "stream",
     "text": [
      "+-------------------+-------------------+--------+\n",
      "|               Data|         lagged_col|diff_col|\n",
      "+-------------------+-------------------+--------+\n",
      "|1976-03-04 12:00:00|1963-06-30 12:00:00|    4631|\n",
      "|1982-01-01 12:00:00|1980-12-31 12:00:00|     366|\n",
      "|2001-09-01 12:00:00|2001-03-31 12:00:00|     154|\n",
      "|2001-03-01 12:00:00|2000-09-30 12:00:00|     152|\n",
      "|2010-12-29 12:00:00|2010-10-01 12:00:00|      89|\n",
      "|1962-10-01 12:00:00|1962-07-30 12:00:00|      63|\n",
      "|1990-01-01 12:00:00|1989-10-31 12:00:00|      62|\n",
      "|2003-08-01 12:00:00|2003-06-30 12:00:00|      32|\n",
      "|1986-08-01 12:00:00|1986-06-30 12:00:00|      32|\n",
      "|1989-04-01 12:00:00|1989-02-28 12:00:00|      32|\n",
      "|2005-09-01 12:00:00|2005-07-31 12:00:00|      32|\n",
      "|1987-02-01 12:00:00|1986-12-31 12:00:00|      32|\n",
      "|1989-06-01 12:00:00|1989-04-30 12:00:00|      32|\n",
      "|1992-01-01 12:00:00|1991-11-30 12:00:00|      32|\n",
      "|2006-08-01 12:00:00|2006-06-30 12:00:00|      32|\n",
      "|2007-08-01 12:00:00|2007-06-30 12:00:00|      32|\n",
      "|2009-08-01 12:00:00|2009-06-30 12:00:00|      32|\n",
      "|1989-01-01 12:00:00|1988-11-30 12:00:00|      32|\n",
      "|2004-08-01 12:00:00|2004-06-30 12:00:00|      32|\n",
      "|2008-09-01 12:00:00|2008-07-31 12:00:00|      32|\n",
      "+-------------------+-------------------+--------+\n",
      "only showing top 20 rows\n",
      "\n"
     ]
    },
    {
     "data": {
      "text/plain": [
       "DataFrame[Estacao: string, Data: timestamp, TempMinima: double]"
      ]
     },
     "execution_count": 5,
     "metadata": {},
     "output_type": "execute_result"
    }
   ],
   "source": [
    "df.transform(spts.gaps(\"Data\"))"
   ]
  },
  {
   "cell_type": "code",
   "execution_count": 6,
   "metadata": {},
   "outputs": [
    {
     "name": "stdout",
     "output_type": "stream",
     "text": [
      "+-------+-------------------+----------+------------------+------------------+------------------+------------------+\n",
      "|Estacao|               Data|TempMinima|         movingAvg|         movingStd|          maxLimit|          minLimit|\n",
      "+-------+-------------------+----------+------------------+------------------+------------------+------------------+\n",
      "|  82294|1961-01-08 12:00:00|      20.7|              20.7|               NaN|               NaN|               NaN|\n",
      "|  82294|1961-01-09 12:00:00|      20.9|20.799999999999997| 0.141421356237309|21.224264068711925| 20.37573593128807|\n",
      "|  82294|1961-01-10 12:00:00|      22.3|21.299999999999997|0.8717797887081367|23.915339366124407|18.684660633875588|\n",
      "|  82294|1961-01-11 12:00:00|      21.7|              21.4|0.7393691004272963| 23.61810730128189| 19.18189269871811|\n",
      "|  82294|1961-01-12 12:00:00|      23.1|             21.74|0.9939818911831362|24.721945673549406| 18.75805432645059|\n",
      "|  82294|1961-01-13 12:00:00|      22.9|21.933333333333334| 1.007306639840456|24.955253252854703|18.911413413811964|\n",
      "|  82294|1961-01-14 12:00:00|      22.9|22.071428571428573|0.9894683517160224| 25.03983362657664|19.103023516280505|\n",
      "|  82294|1961-01-15 12:00:00|      15.1|              21.2| 2.629502940535666|29.088508821606997|13.311491178393002|\n",
      "|  82294|1961-01-16 12:00:00|      22.7|21.366666666666664|2.5099800796022267|28.896606905473345|13.836726427859983|\n",
      "|  82294|1961-01-17 12:00:00|      20.1|             21.24|2.4000925908065387|28.440277772419613|14.039722227580382|\n",
      "|  82294|1961-01-18 12:00:00|      19.7|21.099999999999998|  2.32379000772445|28.071370023173348|14.128629976826648|\n",
      "|  82294|1961-01-19 12:00:00|      20.3| 21.03333333333333|2.2276499371364977|27.716283144742825|14.350383521923838|\n",
      "|  82294|1961-01-20 12:00:00|      21.1| 21.03846153846154| 2.132892582675173| 27.43713928648706| 14.63978379043602|\n",
      "|  82294|1961-01-21 12:00:00|      20.5|              21.0|2.0542638584174138|27.162791575252243| 14.83720842474776|\n",
      "|  82294|1961-01-22 12:00:00|      20.7|             20.98|1.9810531109920877| 26.92315933297626|15.036840667023737|\n",
      "|  82294|1961-01-23 12:00:00|      22.5|            21.075|1.9512389226676814|26.928716768003042|15.221283231996955|\n",
      "|  82294|1961-01-24 12:00:00|      22.5|21.158823529411762| 1.920631023755413|26.920716600678002|15.396930458145523|\n",
      "|  82294|1961-01-25 12:00:00|      19.1|21.044444444444444|1.9254402772970935|26.820765276335724|15.268123612553165|\n",
      "|  82294|1961-01-26 12:00:00|      19.9| 20.98421052631579|1.8895217378111366|  26.6527757397492|15.315645312882378|\n",
      "|  82294|1961-01-27 12:00:00|      21.1|20.990000000000002|1.8393076500626389| 26.50792295018792|15.472077049812086|\n",
      "+-------+-------------------+----------+------------------+------------------+------------------+------------------+\n",
      "only showing top 20 rows\n",
      "\n"
     ]
    }
   ],
   "source": [
    "df.transform(spts.outliars(\"TempMinima\")).show()"
   ]
  },
  {
   "cell_type": "code",
   "execution_count": 9,
   "metadata": {},
   "outputs": [
    {
     "name": "stdout",
     "output_type": "stream",
     "text": [
      "+-------+-------------------+----------+\n",
      "|Estacao|               Data|TempMinima|\n",
      "+-------+-------------------+----------+\n",
      "|  82294|1961-01-08 12:00:00|      20.7|\n",
      "|  82294|1961-01-09 12:00:00|      20.9|\n",
      "|  82294|1961-01-10 12:00:00|      22.3|\n",
      "|  82294|1961-01-11 12:00:00|      21.7|\n",
      "|  82294|1961-01-12 12:00:00|      23.1|\n",
      "|  82294|1961-01-13 12:00:00|      22.9|\n",
      "|  82294|1961-01-14 12:00:00|      22.9|\n",
      "|  82294|1961-01-15 12:00:00|      15.1|\n",
      "|  82294|1961-01-16 12:00:00|      22.7|\n",
      "|  82294|1961-01-17 12:00:00|      20.1|\n",
      "|  82294|1961-01-18 12:00:00|      19.7|\n",
      "|  82294|1961-01-19 12:00:00|      20.3|\n",
      "|  82294|1961-01-20 12:00:00|      21.1|\n",
      "|  82294|1961-01-21 12:00:00|      20.5|\n",
      "|  82294|1961-01-22 12:00:00|      20.7|\n",
      "|  82294|1961-01-23 12:00:00|      22.5|\n",
      "|  82294|1961-01-24 12:00:00|      22.5|\n",
      "|  82294|1961-01-25 12:00:00|      19.1|\n",
      "|  82294|1961-01-26 12:00:00|      19.9|\n",
      "|  82294|1961-01-27 12:00:00|      21.1|\n",
      "+-------+-------------------+----------+\n",
      "only showing top 20 rows\n",
      "\n"
     ]
    }
   ],
   "source": [
    "df.transform(spts.interp(\"TempMinima\", 1)).show()"
   ]
  },
  {
   "cell_type": "code",
   "execution_count": 10,
   "metadata": {},
   "outputs": [
    {
     "name": "stdout",
     "output_type": "stream",
     "text": [
      "+-------------------+-------------------+\n",
      "|             min_ts|             max_ts|\n",
      "+-------------------+-------------------+\n",
      "|1961-01-08 12:00:00|2011-03-17 12:00:00|\n",
      "+-------------------+-------------------+\n",
      "\n"
     ]
    }
   ],
   "source": [
    "df.transform(spts.dateLimits(\"Data\"))"
   ]
  },
  {
   "cell_type": "code",
   "execution_count": null,
   "metadata": {},
   "outputs": [],
   "source": []
  }
 ],
 "metadata": {
  "kernelspec": {
   "display_name": "Python 3",
   "language": "python",
   "name": "python3"
  },
  "language_info": {
   "codemirror_mode": {
    "name": "ipython",
    "version": 3
   },
   "file_extension": ".py",
   "mimetype": "text/x-python",
   "name": "python",
   "nbconvert_exporter": "python",
   "pygments_lexer": "ipython3",
   "version": "3.6.5"
  }
 },
 "nbformat": 4,
 "nbformat_minor": 2
}
